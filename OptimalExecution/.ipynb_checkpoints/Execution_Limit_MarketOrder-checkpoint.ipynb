{
 "cells": [
  {
   "cell_type": "markdown",
   "metadata": {},
   "source": [
    "# Liquidation with Limit and Market Orders Targeting Schedules(Chap 8.5)\n"
   ]
  },
  {
   "cell_type": "markdown",
   "metadata": {},
   "source": [
    "This notebook implements the optimal liquidation of an asset using  limit and market orders in a manner that aims to follow a given schedule as discussed in Chapter 8.5 of\n",
    "\n",
    "Algorithmic and High-Frequency Trading \n",
    "(c) Cartea, Jaimungal, & Penalva, 2015 \n",
    "Cambridge University Press\n",
    "\n",
    "https://www.amazon.co.uk/Algorithmic-High-Frequency-Trading-Mathematics-Finance/dp/1107091144/ref=cm_cr_arp_d_product_top?ie=UTF8\n",
    "\n",
    "## Introduction\n",
    "\n",
    "In Chapter 8.5, Liquidation with Limit and Market Orders, we investigate the optimal strategies followed by a trader who wishes to liquidate shares using both limit and market orders, and simulataneously aims to track a given target inventory schedule. For example, she may be interested in liquidating shares but also in tracking the inventory scheduled followed by TWAP or a schedule such as that implied by the Almgren-Chris strategy.\n",
    "\n",
    "In this case, the trader's performance criterion is\n",
    "\n",
    "\\begin{equation}\n",
    "\\mathbb E\\left[ X_T^{\\tau,\\delta} + Q_T^{\\tau,\\delta}(S_T-\\xi-\\alpha\\, Q_T^{\\tau,\\delta}) - \\phi \\int_0^T (Q_u^{\\tau,\\delta}-q_u)^2\\,du\n",
    "\\right]\n",
    "\\end{equation}\n",
    "\n",
    "where $\\tau$ represents the set of (stopping) times at which the trader submits market orders, $\\delta$ respresents the depth in the limit order book the trader posts their sell limit order, $X^{\\tau,\\delta}$ is the cash value of the strategy, $q_t$ is the target inventory schedule, and $Q^{\\tau,\\delta}$ is the trader's inventory.\n",
    "\n",
    "In particular, the processes appearing above satisfy the SDEs\n",
    "\n",
    "\\begin{equation}\n",
    "dX_t^{\\tau,\\delta} = (S_t+\\delta_{t^-})\\,dN_t^\\delta + (S_t-\\xi)\\,dM_t^\\tau\n",
    "\\end{equation}\n",
    "\n",
    "\\begin{equation}\n",
    "dQ^{\\tau,\\delta} = -dN_t^\\delta - dM_t^\\tau\n",
    "\\end{equation}\n",
    "\n",
    "where $N^\\delta$ is the counting process for filled limit orders and $M^\\tau$ is the counting process for submitted market orders."
   ]
  },
  {
   "cell_type": "code",
   "execution_count": 2,
   "metadata": {},
   "outputs": [
    {
     "ename": "ModuleNotFoundError",
     "evalue": "No module named 'LOMO_target_helper'",
     "output_type": "error",
     "traceback": [
      "\u001b[0;31m---------------------------------------------------------------------------\u001b[0m",
      "\u001b[0;31mModuleNotFoundError\u001b[0m                       Traceback (most recent call last)",
      "Cell \u001b[0;32mIn [2], line 3\u001b[0m\n\u001b[1;32m      1\u001b[0m \u001b[38;5;66;03m# import pakacges\u001b[39;00m\n\u001b[1;32m      2\u001b[0m \u001b[38;5;28;01mimport\u001b[39;00m \u001b[38;5;21;01mnumpy\u001b[39;00m \u001b[38;5;28;01mas\u001b[39;00m \u001b[38;5;21;01mnp\u001b[39;00m\n\u001b[0;32m----> 3\u001b[0m \u001b[38;5;28;01mimport\u001b[39;00m \u001b[38;5;21;01mLOMO_target_helper\u001b[39;00m \u001b[38;5;28;01mas\u001b[39;00m \u001b[38;5;21;01mlth\u001b[39;00m\n",
      "\u001b[0;31mModuleNotFoundError\u001b[0m: No module named 'LOMO_target_helper'"
     ]
    }
   ],
   "source": [
    "# import pakacges\n",
    "import numpy as np\n",
    "import import_ipynb\n",
    "import LOMO_target_helper as lth"
   ]
  },
  {
   "cell_type": "code",
   "execution_count": null,
   "metadata": {},
   "outputs": [],
   "source": [
    "# initial various parameters\n",
    "T = 60\n",
    "Ndt = 6000\n",
    "dt = T / Ndt\n",
    "\n",
    "t = np.arange(0, T + dt, dt)\n",
    "tau = T - t\n",
    "\n",
    "# price jump sizes\n",
    "sigma = 0.01\n",
    "\n",
    "kappa = 100\n",
    "xi = 0.01\n",
    "alpha = 0.001\n",
    "\n",
    "lamb = 50 / 60\n",
    "Nq = 10\n",
    "phi = 0.001\n",
    "\n",
    "# AC Solution\n",
    "phiAC = 10 ** (-5)\n",
    "aAC = 0.001"
   ]
  },
  {
   "cell_type": "code",
   "execution_count": null,
   "metadata": {},
   "outputs": [],
   "source": [
    "# get the target strategy -- Almgren-Chris in this case\n",
    "\n",
    "qAC = lth.AC_solver(phiAC, aAC, tau, T, Nq)\n",
    "lth.plot_curve(t, qAC, xlab =\"time\", ylab=\"Inventory\", title=\"AC target\")"
   ]
  },
  {
   "cell_type": "markdown",
   "metadata": {},
   "source": [
    "## Optimal Strategy\n",
    "\n",
    "In the chapter, we demonstrate that the value function admits a decomposition  the ansatz as $H(t, x, S, q)= x + qS + h(t, q)$, \n",
    "where $h$ satisfies the  the quasi-variational inequality ($QVI$) in equation 8.25 in Chapter 8.4:\n",
    "\n",
    "\\begin{equation}\n",
    "max \\Bigg \\{ \\partial_t h - \\phi (q - q_t)^2 + \\frac{e^{-1} \\lambda}{\\kappa} e^{-\\kappa [h(t,q) - h(t,q-1 )]} \\Bigg \\} = 0,\n",
    "\\end{equation}\n",
    "\n",
    "subject to the terminal and boundary conditions\n",
    "\n",
    "\\begin{equation}\n",
    "h(T,q) = - \\ell(q) \\enspace and \\enspace \n",
    "h(t,0) = \\phi \\int_t^T q_u^2 du.\n",
    "\\end{equation}\n",
    "\n",
    "The optimal strategy is given by\n",
    "\n",
    "\\begin{equation}\n",
    "\\delta^{*} = \\frac{1}{\\kappa} + [h(t,q) - h(t,q - 1)], \n",
    "\\end{equation}\n",
    "\n",
    "and the optimal timing $\\tau_q$ of MOs (when the trader has $q$ assets)  \n",
    "is the first time that\n",
    "\n",
    "\\begin{equation}\n",
    "h(\\tau_q, q-1) - h(\\tau_q, q) = \\xi\n",
    "\\end{equation}\n",
    "\n",
    "The $QVI$ can be linearised by making the transformation\n",
    "\\begin{equation}\n",
    "h(t,q) = \\tfrac{1}{\\kappa} log\\, \\omega(t,q)\n",
    "\\end{equation}\n",
    "and we find that $\\omega(t,q)$ satisfies  \n",
    "\n",
    "\\begin{equation}\n",
    "max \\Bigg \\{ (\\partial_t - \\kappa \\phi (q - q_t)^2) \\omega(t, q) + e^{-1}\\lambda \\omega(t, q-1) \\;\\textbf{;}\\; e^{-\\kappa \\xi} \\omega(t, q-1) - \\omega(t, q)  \\Bigg \\} = 0,\n",
    "\\end{equation}\n",
    "\n",
    "subject to the terminal and boundary conditions \n",
    "\n",
    "\\begin{equation}\n",
    "\\omega(T, q) = e^{-\\kappa \\ell(q)} \\enspace and \\enspace\n",
    "\\omega(t, 0) = e^{-\\kappa \\phi \\int_t^T q_u^2 du} .\n",
    "\\end{equation}\n",
    "\n",
    "The solution to this QVI is implemented in the helper file."
   ]
  },
  {
   "cell_type": "code",
   "execution_count": null,
   "metadata": {},
   "outputs": [],
   "source": [
    "# Inventory q Vector\n",
    "q = np.arange(0, Nq + 1, 1)\n",
    "\n",
    "# solve the QVI for omega\n",
    "omega, exe = lth.hjb_solver(t, dt, kappa, xi, phi, q, qAC, lamb)\n",
    "\n",
    "# obtain the optimal time at which to execute market orders\n",
    "t_opt = lth.find_opt_t(exe, t)\n",
    "\n",
    "# Solve for delta\n",
    "delta = lth.find_delta(kappa, omega, Nq, Ndt)"
   ]
  },
  {
   "cell_type": "markdown",
   "metadata": {},
   "source": [
    "Below, for each inventory level, we plot the time $\\tau_q$ at which the trader should submit a market order together with the target schedule $q_t$. For example, the trader currently has 4 assets, they will post a limit order but  if it is not filled by $t\\sim20sec$, then they execute a market order."
   ]
  },
  {
   "cell_type": "code",
   "execution_count": null,
   "metadata": {},
   "outputs": [],
   "source": [
    "# plot the results\n",
    "lth.plot_topt(t_opt, q, qAC, t)"
   ]
  },
  {
   "cell_type": "markdown",
   "metadata": {},
   "source": [
    "Next, for each inventory level, we plot the optimal depth $\\delta_t$ as a function of time."
   ]
  },
  {
   "cell_type": "code",
   "execution_count": null,
   "metadata": {},
   "outputs": [],
   "source": [
    "lth.plot_multi_lines(t[0:(t.shape[0]-1)], delta[:, 0:(delta.shape[1]-1)],  xlab=r\"Time ($sec$)\", ylab=r\"$\\delta^*(t,q)$\", title=r\"Optimal Limit Order Depth\")"
   ]
  },
  {
   "cell_type": "markdown",
   "metadata": {},
   "source": [
    "## Simulation\n",
    "Next, we simulate sample paths and the trader's optimal behaviour along those paths. To this we\n",
    "* obtain the optimal limit order price for the current inventory and post it\n",
    "* check  whether we are behind schedule ($t>\\tau_q$) and if so execute a market order, and cancel the limit order\n",
    "* step forward in time\n",
    "  * update the price\n",
    "  * check whether an incoming market order arrives\n",
    "  * if a market order arrives, check if your limit order is filled\n",
    "  * update cash and inventory"
   ]
  },
  {
   "cell_type": "markdown",
   "metadata": {},
   "source": [
    "In this simulation, we use the parameters\n",
    "\n",
    "\\begin{equation}\n",
    "t = 60 sec\n",
    "\\quad \n",
    "\\lambda = 50 / min\n",
    "\\quad\n",
    "\\kappa = 100\n",
    "\\quad \n",
    "\\sigma = 0.01\n",
    "\\quad\n",
    "\\alpha = 0.001\n",
    "\\quad\n",
    "\\xi = 0.01\n",
    "\\end{equation}"
   ]
  },
  {
   "cell_type": "code",
   "execution_count": null,
   "metadata": {},
   "outputs": [],
   "source": [
    "np.random.seed(30)\n",
    "\n",
    "# Number of Simulations\n",
    "Nsims = 1000\n",
    "\n",
    "# The Mid-price to start with\n",
    "s0 = 1\n",
    "\n",
    "deltaPath, Qpath, isMO, Xpath, Spath, pricePerShare, twap = lth.generate_simulations(Nsims, s0, Ndt, Nq, dt, delta, lamb, kappa, sigma, xi, t_opt, t)\n",
    "\n",
    "# Choose the three simulation results\n",
    "idx_fig = np.array([382, 57, 1])"
   ]
  },
  {
   "cell_type": "markdown",
   "metadata": {},
   "source": [
    "Visualize Depth vs Time (sec) of the simulations."
   ]
  },
  {
   "cell_type": "code",
   "execution_count": null,
   "metadata": {},
   "outputs": [],
   "source": [
    "lth.plot_multi_lines(t, deltaPath[idx_fig, :], r'Time ($sec$)', r'Depth ($\\delta^*_t$)', r'Optimal Depth Sample Paths')"
   ]
  },
  {
   "cell_type": "markdown",
   "metadata": {},
   "source": [
    "Visualize Intensity vs Time (sec) of the simulations."
   ]
  },
  {
   "cell_type": "code",
   "execution_count": null,
   "metadata": {},
   "outputs": [],
   "source": [
    "intensity = lamb * np.exp(-kappa * deltaPath[idx_fig, :])\n",
    "\n",
    "lth.plot_multi_lines(t, intensity, r'Time ($sec$)', r'Intensity ($e^{-\\kappa\\delta_t^*}$)', r'Corresponding Fill intensity')"
   ]
  },
  {
   "cell_type": "markdown",
   "metadata": {},
   "source": [
    "Visualize Inventory vs Time (sec) of the simulations. The blue dots indicates whether it is a market order."
   ]
  },
  {
   "cell_type": "code",
   "execution_count": null,
   "metadata": {},
   "outputs": [],
   "source": [
    "lth.plot_inventory(isMO[idx_fig, :], Qpath[idx_fig, :], t)"
   ]
  },
  {
   "cell_type": "markdown",
   "metadata": {},
   "source": [
    "Visualize Cash vs Time (sec) of the simulations."
   ]
  },
  {
   "cell_type": "code",
   "execution_count": null,
   "metadata": {},
   "outputs": [],
   "source": [
    "lth.plot_multi_steps(t, Xpath[idx_fig, :], r'Time ($sec$)', r'Cash ($X^*_t$)',r'Cash Sample Paths')"
   ]
  },
  {
   "cell_type": "code",
   "execution_count": null,
   "metadata": {},
   "outputs": [],
   "source": [
    "lth.plot_multi_steps(t, Xpath[idx_fig, :]+Qpath[idx_fig,:] * Spath[idx_fig,:], r'Time ($sec$)', r'Book Value ($X^*_t+Q^*_tS_t$)',r'Book Value Sample Paths')"
   ]
  },
  {
   "cell_type": "markdown",
   "metadata": {},
   "source": [
    "Visualize Mid-price vs Time (sec) of the simulations."
   ]
  },
  {
   "cell_type": "code",
   "execution_count": null,
   "metadata": {},
   "outputs": [],
   "source": [
    "lth.plot_multi_lines(t, Spath[idx_fig, :], r'Time ($sec$)', r'Mid-price ($S_t$)',r'Asset Sample Paths')"
   ]
  },
  {
   "cell_type": "markdown",
   "metadata": {},
   "source": [
    "Visualize Price Per Share vs Time (sec) of the simulation."
   ]
  },
  {
   "cell_type": "code",
   "execution_count": null,
   "metadata": {},
   "outputs": [],
   "source": [
    "lth.plot_price_per_share(t, pricePerShare[idx_fig, :], twap[idx_fig, :])"
   ]
  },
  {
   "cell_type": "code",
   "execution_count": null,
   "metadata": {},
   "outputs": [],
   "source": [
    "pricepershare = np.divide(Xpath, Nq - Qpath)\n",
    "idx = np.sum(lth.nan_to_num(pricepershare, 0), axis=1).astype(int)\n",
    "\n",
    "terminal_pps = np.full(pricepershare.shape[0], np.NaN)\n",
    "for i in range(0, terminal_pps.shape[0], 1):   \n",
    "    if idx[i] > pricepershare.shape[1] - 1:\n",
    "        terminal_pps[i] = np.NaN\n",
    "    else:\n",
    "        terminal_pps[i] = pricepershare[i, idx[i]]\n",
    "\n",
    "lth.plot_histogram(terminal_pps - twap[:, twap.shape[1] - 1], r'Cost Savings / Share', np.array([0.1, 0.25, 0.5, 0.75, 0.9]))"
   ]
  },
  {
   "cell_type": "markdown",
   "metadata": {},
   "source": [
    "Visualize the histogram of the number of MOs of each simulation."
   ]
  },
  {
   "cell_type": "code",
   "execution_count": null,
   "metadata": {},
   "outputs": [],
   "source": [
    "# figure(201)\n",
    "totalMO = np.sum(isMO, axis=1)\n",
    "lth.plot_histogram(totalMO, r'MOs During Execution', np.array([0.1, 0.25, 0.5, 0.75, 0.9]), bins=np.arange(0,np.ceil(np.quantile(totalMO,0.999)),1) )"
   ]
  },
  {
   "cell_type": "markdown",
   "metadata": {},
   "source": [
    "Visualize the histogram of the inventory at the end of each simulation."
   ]
  },
  {
   "cell_type": "code",
   "execution_count": null,
   "metadata": {},
   "outputs": [],
   "source": [
    "# figure(203)\n",
    "q = np.arange(0, Nq + 1, 1)\n",
    "myn = np.full((Ndt + 1, Nq + 1), np.NaN)\n",
    "for k in range(0, t.shape[0], 1):\n",
    "    myn[k, :]  = np.histogram(Qpath[:, k], bins=np.append(q, Nq + 1))[0]\n",
    "myn = np.transpose(myn)\n",
    "medq = np.median(Qpath, axis=0)\n",
    "meanq = np.mean(Qpath, axis=0)\n",
    "\n",
    "lth.plot_heat_map(t=t, q=q, myn_per_sim=myn / Nsims, meanq=meanq, medq=medq, qAC=qAC, xlab=r'Time (sec)', ylab=r'Inventory',title=r'Inventory Heatmap')"
   ]
  }
 ],
 "metadata": {
  "kernelspec": {
   "display_name": "Python 3 (ipykernel)",
   "language": "python",
   "name": "python3"
  },
  "language_info": {
   "codemirror_mode": {
    "name": "ipython",
    "version": 3
   },
   "file_extension": ".py",
   "mimetype": "text/x-python",
   "name": "python",
   "nbconvert_exporter": "python",
   "pygments_lexer": "ipython3",
   "version": "3.9.7"
  }
 },
 "nbformat": 4,
 "nbformat_minor": 2
}
